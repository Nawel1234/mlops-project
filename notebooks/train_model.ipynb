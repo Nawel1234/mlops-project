{
 "cells": [
  {
   "cell_type": "code",
   "execution_count": 4,
   "id": "a0a7b30e-7b2c-4de0-ad74-b18b89178ef0",
   "metadata": {},
   "outputs": [],
   "source": [
    "import pandas as pd\n",
    "from sklearn.linear_model import LogisticRegression\n",
    "from sklearn.model_selection import train_test_split\n",
    "import mlflow\n",
    "import mlflow.sklearn\n",
    "from mlflow.models.signature import infer_signature\n",
    "\n",
    "# Charger les données\n",
    "df = pd.read_csv(\"../data/iris.csv\")\n",
    "X = df.drop(\"species\", axis=1)\n",
    "y = df[\"species\"]\n",
    "\n",
    "# Split train/test\n",
    "X_train, X_test, y_train, y_test = train_test_split(X, y, test_size=0.2)\n",
    "\n",
    "# Démarrer la session MLflow\n",
    "with mlflow.start_run():\n",
    "\n",
    "    # Entraîner le modèle\n",
    "    model = LogisticRegression(max_iter=200)\n",
    "    model.fit(X_train, y_train)\n",
    "\n",
    "    # Calculer la précision\n",
    "    acc = model.score(X_test, y_test)\n",
    "    mlflow.log_metric(\"accuracy\", acc)\n",
    "\n",
    "    # Inférer signature + input exemple\n",
    "    signature = infer_signature(X_train, model.predict(X_train))\n",
    "    input_example = X_train.iloc[:2]\n",
    "\n",
    "    # Logger le modèle avec `name` au lieu de `artifact_path`\n",
    "    mlflow.sklearn.log_model(\n",
    "        sk_model=model,\n",
    "        name=\"logistic_regression_model\",\n",
    "        signature=signature,\n",
    "        input_example=input_example\n",
    "    )\n"
   ]
  },
  {
   "cell_type": "code",
   "execution_count": null,
   "id": "0e945754-7511-426d-8385-affb0e11be64",
   "metadata": {},
   "outputs": [],
   "source": []
  }
 ],
 "metadata": {
  "kernelspec": {
   "display_name": "Python 3 (ipykernel)",
   "language": "python",
   "name": "python3"
  },
  "language_info": {
   "codemirror_mode": {
    "name": "ipython",
    "version": 3
   },
   "file_extension": ".py",
   "mimetype": "text/x-python",
   "name": "python",
   "nbconvert_exporter": "python",
   "pygments_lexer": "ipython3",
   "version": "3.9.1"
  }
 },
 "nbformat": 4,
 "nbformat_minor": 5
}
